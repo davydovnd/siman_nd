{
 "cells": [
  {
   "cell_type": "markdown",
   "metadata": {},
   "source": [
    "# Tutorial on calculating effective masses for Si"
   ]
  },
  {
   "cell_type": "code",
   "execution_count": 2,
   "metadata": {},
   "outputs": [],
   "source": [
    "import os\n",
    "import sys\n",
    "import re\n",
    "from siman import header\n",
    "from siman.header import _update_configuration, db\n",
    "from siman.database import read_database, write_database\n",
    "from siman.calc_manage import smart_structure_read, add_loop, res_loop\n",
    "import project_sets\n",
    "from pymatgen.io.vasp import BSVasprun\n",
    "from siman.set_functions import read_vasp_sets\n",
    "from siman.electronic.band_structure import effective_mass as em\n",
    "from siman.electronic.band_structure import band_structure as bs\n",
    "from siman.wrappers import waiting_calc_complete as wrap\n",
    "from siman.wrappers import sets_wrap as swrap"
   ]
  },
  {
   "cell_type": "code",
   "execution_count": 19,
   "metadata": {},
   "outputs": [],
   "source": [
    "read_database() # read database if exist\n",
    "_update_configuration('simanrc.py') # simanrc.py should be in the folder with project "
   ]
  },
  {
   "cell_type": "code",
   "execution_count": 4,
   "metadata": {},
   "outputs": [],
   "source": [
    "# Defining the basic parameters for calculations\n",
    "\n",
    "sp_pack = {'KSPACING': 0.33, 'NPAR':None,'ISTART':None,'NELM':None,'PREC':None,'ALGO':None,\n",
    "           'KGAMMA':None,'ENCUT':600,'LPLANE':None, 'LREAL':'.FALSE.',\n",
    "           'EDIFF': 1.e-8}\n",
    "\n",
    "mass_pack = {'LORBIT': 11, 'ICHARG': 11}"
   ]
  },
  {
   "cell_type": "markdown",
   "metadata": {},
   "source": [
    "**1 Step. Perform single-point and band structure calculations**"
   ]
  },
  {
   "cell_type": "code",
   "execution_count": 6,
   "metadata": {},
   "outputs": [],
   "source": [
    "# Let's use the already prepared POSCAR file and vasprun.xml file from band structure calculations (see tutorial band.py)\n",
    "\n",
    "st_name = 'Si'\n",
    "path_to_POSCAR = f'{st_name}/{st_name}.POSCAR_mass'\n",
    "\n",
    "vasprun_band_path = \"/Users/irinabrodyagina/PycharmProjects/find_k-path/Si/Si.band_file/1.vasprun.xml\"\n",
    "kpoints_band_path = \"/Users/irinabrodyagina/PycharmProjects/find_k-path/Si/Si.band_file/KPOINTS\"\n",
    "\n",
    "siman_st = smart_structure_read(path_to_POSCAR)"
   ]
  },
  {
   "cell_type": "markdown",
   "metadata": {},
   "source": [
    "**2 Step. Determine the extremes of the valence and the conduction bands and determine a set of k-points near these extremes to calculate the difference derivative**"
   ]
  },
  {
   "cell_type": "code",
   "execution_count": 9,
   "metadata": {},
   "outputs": [],
   "source": [
    "# We will use pymatgen to search for extremes\n",
    "\n",
    "v = BSVasprun(vasprun_band_path, occu_tol=1e-08)\n",
    "bs = v.get_band_structure(kpoints_filename=kpoints_band_path, line_mode=True)\n",
    "\n",
    "kpt_cbm = bs.get_cbm()['kpoint'].cart_coords # conductive band min\n",
    "kpt_vbm = bs.get_vbm()['kpoint'].cart_coords # valence band max"
   ]
  },
  {
   "cell_type": "code",
   "execution_count": 10,
   "metadata": {},
   "outputs": [
    {
     "name": "stdout",
     "output_type": "stream",
     "text": [
      "\n",
      "\n",
      "Results k-points_mass in cart:\n",
      " 0.972018 0.000000 0.000000  1\n",
      " 1.022018 0.000000 0.000000  1\n",
      " 0.922018 0.000000 0.000000  1\n",
      " 0.972018 0.050000 0.000000  1\n",
      " 0.972018 -0.050000 0.000000  1\n",
      " 0.972018 0.000000 0.050000  1\n",
      " 0.972018 0.000000 -0.050000  1\n",
      " 1.022018 0.050000 0.000000  1\n",
      " 0.922018 -0.050000 0.000000  1\n",
      " 1.022018 -0.050000 0.000000  1\n",
      " 0.922018 0.050000 0.000000  1\n",
      " 1.022018 0.000000 0.050000  1\n",
      " 0.922018 0.000000 -0.050000  1\n",
      " 1.022018 0.000000 -0.050000  1\n",
      " 0.922018 0.000000 0.050000  1\n",
      " 0.972018 0.050000 0.050000  1\n",
      " 0.972018 -0.050000 -0.050000  1\n",
      " 0.972018 0.050000 -0.050000  1\n",
      " 0.972018 -0.050000 0.050000  1\n",
      "\n",
      "\n",
      "Results k-points_mass in rec:\n",
      " 0.000000 0.423077 0.423077  1\n",
      " 0.000000 0.444840 0.444840  1\n",
      " 0.000000 0.401314 0.401314  1\n",
      " 0.021763 0.423077 0.444840  1\n",
      " -0.021763 0.423077 0.401314  1\n",
      " 0.021763 0.444840 0.423077  1\n",
      " -0.021763 0.401314 0.423077  1\n",
      " 0.021763 0.444840 0.466603  1\n",
      " -0.021763 0.401314 0.379551  1\n",
      " -0.021763 0.444840 0.423077  1\n",
      " 0.021763 0.401314 0.423077  1\n",
      " 0.021763 0.466603 0.444840  1\n",
      " -0.021763 0.379551 0.401314  1\n",
      " -0.021763 0.423077 0.444840  1\n",
      " 0.021763 0.423077 0.401314  1\n",
      " 0.043526 0.444840 0.444840  1\n",
      " -0.043526 0.401314 0.401314  1\n",
      " -0.000000 0.401314 0.444840  1\n",
      " 0.000000 0.444840 0.401314  1\n"
     ]
    }
   ],
   "source": [
    "# Siman can calculate both the full effective mass tensor and a single value in a certain direction in the reverse space. \n",
    "# Let's calculate the tensor for electrons (at kpt_cbm point), and for holes (at kpt_vbm point) the values in direction (1, 0, 0)\n",
    "\n",
    "# Prepare the k-points\n",
    "\n",
    "h = 0.05 #step between points, the recommend value about 0.05 angstreme\n",
    "k_points_elec = em.generate_kpoints_for_mass(kpt_cbm, h=h, vasprun_band_path=vasprun_band_path, flag='tensor', debug=True)"
   ]
  },
  {
   "cell_type": "code",
   "execution_count": 11,
   "metadata": {},
   "outputs": [
    {
     "name": "stdout",
     "output_type": "stream",
     "text": [
      "\n",
      "\n",
      "Results k-points_mass in cart:\n",
      " 0.000000 0.000000 0.000000  1\n",
      " 0.050000 0.000000 0.000000  1\n",
      " -0.050000 0.000000 0.000000  1\n",
      "\n",
      "\n",
      "Results k-points_mass in rec:\n",
      " 0.000000 0.000000 0.000000  1\n",
      " 0.000000 0.021763 0.021763  1\n",
      " 0.000000 -0.021763 -0.021763  1\n"
     ]
    }
   ],
   "source": [
    "k_points_hole = em.generate_kpoints_for_mass(kpt_vbm, h=h, vasprun_band_path=vasprun_band_path, flag='direct', direct=(1, 0, 0), debug=True)"
   ]
  },
  {
   "cell_type": "code",
   "execution_count": 12,
   "metadata": {},
   "outputs": [
    {
     "name": "stdout",
     "output_type": "stream",
     "text": [
      "\n",
      "Attention! You have chosen to override set mass_elec\n",
      " \n",
      "\n",
      "\n",
      "Attention! You have chosen to override set mass_hole\n",
      " \n",
      "\n"
     ]
    }
   ],
   "source": [
    "# Create new sets for Siman\n",
    "\n",
    "name_set_elec = \"mass_elec\"\n",
    "name_set_hole = \"mass_hole\"\n",
    "\n",
    "swrap.create_new_set(name_set_elec, \"sp\", mass_pack, k_path=k_points_elec, path_key='k_effective_mass')\n",
    "swrap.create_new_set(name_set_hole, \"sp\", mass_pack, k_path=k_points_hole, path_key='k_effective_mass')"
   ]
  },
  {
   "cell_type": "markdown",
   "metadata": {},
   "source": [
    "**3 Step. Performing calculations**"
   ]
  },
  {
   "cell_type": "code",
   "execution_count": 13,
   "metadata": {},
   "outputs": [],
   "source": [
    "# Vasp non-self-consistent calc\n",
    "\n",
    "band_file_name = st_name + '.if'\n",
    "vasprun_mass_elec = f'{st_name}/{band_file_name}.{name_set_elec}/'\n",
    "vasprun_mass_hole = f'{st_name}/{band_file_name}.{name_set_hole}/'"
   ]
  },
  {
   "cell_type": "code",
   "execution_count": null,
   "metadata": {},
   "outputs": [],
   "source": [
    "wrap.non_self_consist_calc(st_name, name_set_elec, \"sp\", path_to_POSCAR=path_to_POSCAR, path_to_vasprun=vasprun_mass_elec + '1.vasprun.xml')\n",
    "wrap.non_self_consist_calc(st_name, name_set_hole, \"sp\", path_to_POSCAR=path_to_POSCAR, path_to_vasprun=vasprun_mass_hole + '1.vasprun.xml')"
   ]
  },
  {
   "cell_type": "code",
   "execution_count": 15,
   "metadata": {},
   "outputs": [
    {
     "name": "stdout",
     "output_type": "stream",
     "text": [
      "\n",
      "tensor of masses\n",
      "1.04468   0.00000   0.00000  \n",
      "0.00000   5.06065   0.00000  \n",
      "0.00000   0.00000   5.06065  \n",
      "\n",
      "eigenvals:\n",
      " [0.957, 0.198, 0.198]\n",
      "\n",
      "eigenvectors:\n",
      "\n",
      "[[1. 0. 0.]\n",
      " [0. 1. 0.]\n",
      " [0. 0. 1.]]\n"
     ]
    }
   ],
   "source": [
    "# Tensor of effective masses for electron (band=5)\n",
    "\n",
    "mass, eigenval_mass  = em.eff_mass_value(band=5, h=h, folder_mass=vasprun_mass_elec, vasprun_name='1.vasprun.xml', \n",
    "                                         kpt_extr=kpt_cbm, flag='tensor', debug=True)"
   ]
  },
  {
   "cell_type": "code",
   "execution_count": 17,
   "metadata": {},
   "outputs": [
    {
     "name": "stdout",
     "output_type": "stream",
     "text": [
      "Effective mass in point [0. 0. 0.] for direction (1, 0, 0) = -0.274 m_e; band = 4\n",
      "Effective mass in point [0. 0. 0.] for direction (1, 0, 0) = -0.274 m_e; band = 3\n",
      "Effective mass in point [0. 0. 0.] for direction (1, 0, 0) = -0.162 m_e; band = 2\n"
     ]
    }
   ],
   "source": [
    "# Value of effective mass for holes in direction (1, 0, 0)\n",
    "# Band 3, 4 - heavy hole, band 2 - light hole\n",
    "\n",
    "for band in [4, 3, 2]:\n",
    "    mass, _  = em.eff_mass_value(band=band, h=h, folder_mass=vasprun_mass_hole, vasprun_name='1.vasprun.xml',\n",
    "                    kpt_extr=kpt_vbm, flag='direct', direct=(1, 0, 0), debug=True)"
   ]
  }
 ],
 "metadata": {
  "kernelspec": {
   "display_name": "Python 3 (ipykernel)",
   "language": "python",
   "name": "python3"
  },
  "language_info": {
   "codemirror_mode": {
    "name": "ipython",
    "version": 3
   },
   "file_extension": ".py",
   "mimetype": "text/x-python",
   "name": "python",
   "nbconvert_exporter": "python",
   "pygments_lexer": "ipython3",
   "version": "3.12.1"
  }
 },
 "nbformat": 4,
 "nbformat_minor": 4
}
