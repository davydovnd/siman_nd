{
 "cells": [
  {
   "cell_type": "markdown",
   "metadata": {},
   "source": [
    "### Installation:\n",
    "\n",
    "- pip install siman \n",
    "\n",
    "For linux it is enough to have pure python3 and any IDE or code editor such as Sublime Text.\n",
    "\n",
    "Alternatively one can use [Jupyter Notebook](https://jupyter.readthedocs.io/en/latest/install.html)\n",
    "\n",
    "\n",
    "For Windows you may need\n",
    "\n",
    "- Install [Anaconda](https://www.continuum.io/downloads). \n",
    "- Install [paramiko](http://www.paramiko.org/) package by running in command line *pip install paramiko*\n",
    "\n",
    "\n",
    "- For additional functionality you need to install [pymatgen](http://pymatgen.org/) and [ase](https://wiki.fysik.dtu.dk/ase/) using the following commands:\n",
    "   - pip install pymatgen\n",
    "   - pip install ase\n",
    "        \n",
    "        \n",
    "see more here https://wiki.storion.ru/start/siman"
   ]
  }
 ],
 "metadata": {
  "kernelspec": {
   "display_name": "Python 3 (ipykernel)",
   "language": "python",
   "name": "python3"
  },
  "language_info": {
   "codemirror_mode": {
    "name": "ipython",
    "version": 3
   },
   "file_extension": ".py",
   "mimetype": "text/x-python",
   "name": "python",
   "nbconvert_exporter": "python",
   "pygments_lexer": "ipython3",
   "version": "3.8.6"
  }
 },
 "nbformat": 4,
 "nbformat_minor": 1
}
