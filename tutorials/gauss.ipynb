{
 "cells": [
  {
   "cell_type": "code",
   "execution_count": null,
   "id": "f2f6ec83",
   "metadata": {},
   "outputs": [],
   "source": [
    "Provide in description of your cluster in project_conf.py the command and modules for gaussian:\n",
    "\n",
    "CLUSTERS['cee'] = {\n",
    "'address':'d.aksenov@10.30.16.168',\n",
    "'vasp_com':'mpirun vasp_std',\n",
    "'gaussian_command':'g16',\n",
    "'homepath':'/home/d.aksenov/',\n",
    "'schedule':'SLURM',\n",
    "'corenum':16,\n",
    "'memory':24, #GB, now used for Gaussian\n",
    "'partition':'AMG-medium',\n",
    "'modules':'module load Q-Ch/Gaussian/16.RevA03; \\n ulimit -s unlimited \\n'\n",
    "}\n"
   ]
  },
  {
   "cell_type": "code",
   "execution_count": null,
   "id": "2a78566e",
   "metadata": {},
   "outputs": [],
   "source": [
    "create required sets in project_sets.py\n",
    "user_vasp_sets = [\n",
    "('0', 'gaus_sp', {}, ''), #default set in siman.set_functions.init_default_sets\n",
    "('1', '0', {'job_type':'Opt'}, ''), # '6-31G(d)'\n",
    "('1s', '1', {'SCRF':'SCRF=(Solvent=Acetone)'}, ''), # \n",
    "('1a', '1s', {'basis_set':'6-31G'}, ''),\n",
    "]\n"
   ]
  },
  {
   "cell_type": "code",
   "execution_count": null,
   "id": "13c85598",
   "metadata": {},
   "outputs": [],
   "source": [
    "from siman.inout import read_structure\n",
    "\n",
    "st = read_structure('xyz/OASR2_c4.xyz' , object_type = 'molecule')\n",
    "add('OASR2_c4', '1a', 1, input_st = st, it_folder = 'gauss', up = 'up1', show = 'fo')"
   ]
  },
  {
   "cell_type": "code",
   "execution_count": null,
   "id": "c48b7abb",
   "metadata": {},
   "outputs": [],
   "source": [
    "res('OASR2_c4', '1a', 1)"
   ]
  }
 ],
 "metadata": {
  "kernelspec": {
   "display_name": "Python 3 (ipykernel)",
   "language": "python",
   "name": "python3"
  },
  "language_info": {
   "codemirror_mode": {
    "name": "ipython",
    "version": 3
   },
   "file_extension": ".py",
   "mimetype": "text/x-python",
   "name": "python",
   "nbconvert_exporter": "python",
   "pygments_lexer": "ipython3",
   "version": "3.8.6"
  }
 },
 "nbformat": 4,
 "nbformat_minor": 5
}
