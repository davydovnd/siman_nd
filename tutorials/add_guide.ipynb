{
 "cells": [
  {
   "cell_type": "code",
   "execution_count": null,
   "id": "68ca38e9",
   "metadata": {},
   "outputs": [],
   "source": [
    "# This Tutorial tell how to make DFT calculations "
   ]
  },
  {
   "cell_type": "code",
   "execution_count": null,
   "id": "bc5ca57c",
   "metadata": {},
   "outputs": [],
   "source": [
    "#taking structure from materials project, provide PMG key to configuration file simanrc.py, setup sets and clusters\n",
    "from siman.calc_manage import add\n",
    "\n",
    "add(setlist = '1', mp_id = 149)\n"
   ]
  },
  {
   "cell_type": "code",
   "execution_count": null,
   "id": "427abde8",
   "metadata": {},
   "outputs": [],
   "source": [
    "#Changing number of cores\n",
    "add(corenum = 16)\n",
    "\n",
    "#Changing cluster\n",
    "add(cluster = 'skol')"
   ]
  }
 ],
 "metadata": {
  "kernelspec": {
   "display_name": "Python 3 (ipykernel)",
   "language": "python",
   "name": "python3"
  },
  "language_info": {
   "codemirror_mode": {
    "name": "ipython",
    "version": 3
   },
   "file_extension": ".py",
   "mimetype": "text/x-python",
   "name": "python",
   "nbconvert_exporter": "python",
   "pygments_lexer": "ipython3",
   "version": "3.8.6"
  }
 },
 "nbformat": 4,
 "nbformat_minor": 5
}
