{
 "cells": [
  {
   "cell_type": "markdown",
   "metadata": {},
   "source": [
    "# Read XYZ and convert to POSCAR"
   ]
  },
  {
   "cell_type": "code",
   "execution_count": 6,
   "metadata": {},
   "outputs": [
    {
     "name": "stdout",
     "output_type": "stream",
     "text": [
      "Final rprimd = \n",
      " [[20.    0.    0.  ]\n",
      " [ 0.   20.01  0.  ]\n",
      " [ 0.    0.   15.02]] \n",
      "\n",
      "-- POSCAR was written to /ssd2/ydisk/Simulation_wrapper/siman/tutorials/xyz/POSCAR_H12_C11_O3_F12 \n",
      "\n"
     ]
    },
    {
     "data": {
      "text/plain": [
       "'/ssd2/ydisk/Simulation_wrapper/siman/tutorials/xyz/POSCAR_H12_C11_O3_F12'"
      ]
     },
     "execution_count": 6,
     "metadata": {},
     "output_type": "execute_result"
    }
   ],
   "source": [
    "from siman.inout import read_xyz # this function is used by st object\n",
    "from siman.core.structure import Structure\n",
    "\n",
    "st = Structure()\n",
    "st.read_xyz('xyz/OASR2_c4.xyz', rprimd = [[20,0,0],[0,20.01,0],[0,0,15.02]])\n",
    "st.write_poscar()"
   ]
  },
  {
   "cell_type": "markdown",
   "metadata": {},
   "source": [
    "## Shifting atoms"
   ]
  },
  {
   "cell_type": "code",
   "execution_count": null,
   "metadata": {},
   "outputs": [],
   "source": [
    "st = st.shift_atoms(vector_red = [0.5,0.5,0.5]) # this will allow to put molecule in the center of the box"
   ]
  },
  {
   "cell_type": "markdown",
   "metadata": {},
   "source": [
    "# Reading OUTCAR"
   ]
  },
  {
   "cell_type": "markdown",
   "metadata": {},
   "source": [
    "## 1. How to read unfinished OUTCAR?"
   ]
  },
  {
   "cell_type": "code",
   "execution_count": null,
   "metadata": {},
   "outputs": [],
   "source": [
    "res_loop(up = 'un') # read unfinished v.OUTCAR due to crash of vasp\n",
    "res_loop(up = 'un2') # read unfinished OUTCAR due to crash of job"
   ]
  },
  {
   "cell_type": "markdown",
   "metadata": {},
   "source": [
    "## 2. How to read xcart at each relaxation step?"
   ]
  },
  {
   "cell_type": "code",
   "execution_count": null,
   "metadata": {},
   "outputs": [],
   "source": [
    "cl = calc['O2', '1u', 1]\n",
    "cl.read_results(out_type = 'xcarts') #\n",
    "print(cl.xcart_list)"
   ]
  },
  {
   "cell_type": "markdown",
   "metadata": {},
   "source": [
    "## 3. How to show additional information?"
   ]
  },
  {
   "cell_type": "code",
   "execution_count": null,
   "metadata": {},
   "outputs": [],
   "source": [
    "res_loop(show = 'smag') # show sum of all magnetic moments (and augmentation part) at each relaxation step\n",
    "res_loop(show = 'conv') # show convergence at each MD step\n",
    "res_loop(show = 'en') # show energy vs max. force plot\n",
    "res_loop(show = 'path') # show path to calculation folder\n",
    "res_loop(show = 'pos') # write poscar for last structure\n",
    "cl.end.jmol() or cl.jmol() # run jmol and show the structure"
   ]
  },
  {
   "cell_type": "markdown",
   "metadata": {},
   "source": [
    "## Additional information for neb"
   ]
  },
  {
   "cell_type": "code",
   "execution_count": null,
   "metadata": {},
   "outputs": [],
   "source": [
    "#for res()\n",
    "show = 'neb_geo'\n",
    "show = 'neb_geo2' # average distances \n",
    "show = 'neb_noxyz' # write no xyz files\n",
    "show = 'neb_rms' # rms change of surrounding atoms"
   ]
  },
  {
   "cell_type": "markdown",
   "metadata": {},
   "source": [
    "## 4. How to switch off check of job status on server"
   ]
  },
  {
   "cell_type": "code",
   "execution_count": null,
   "metadata": {},
   "outputs": [],
   "source": [
    "res_loop(check_job = 0)\n",
    "add_loop(check_job = 0)"
   ]
  },
  {
   "cell_type": "markdown",
   "metadata": {},
   "source": [
    "## 5. Main control parameters in project_conf.py"
   ]
  },
  {
   "cell_type": "code",
   "execution_count": 1,
   "metadata": {},
   "outputs": [],
   "source": [
    "check_job = 0 or 1 # whether to check job status, set to 0 for slow connections"
   ]
  },
  {
   "cell_type": "markdown",
   "metadata": {},
   "source": [
    "## How to fix specific atoms for selective dynamics?"
   ]
  },
  {
   "cell_type": "code",
   "execution_count": null,
   "metadata": {},
   "outputs": [],
   "source": [
    "st = st.fix_atoms([1,4,6])\n",
    "add('it', 'ise', 1, input_st = st) # will automatically detect fixed atoms and turn on selective dynamics "
   ]
  },
  {
   "cell_type": "markdown",
   "metadata": {},
   "source": [
    "## How to write final structure into file? "
   ]
  },
  {
   "cell_type": "code",
   "execution_count": null,
   "metadata": {},
   "outputs": [],
   "source": [
    "st.write_poscar()\n",
    "st.write_cif()\n",
    "st.write_xyz()\n",
    "st.write_geometry() # siman custom .geo format"
   ]
  },
  {
   "cell_type": "markdown",
   "metadata": {},
   "source": [
    "###How to check history of my submissions?\n",
    "Look in **history** file in your project folder.\n"
   ]
  },
  {
   "cell_type": "markdown",
   "metadata": {},
   "source": [
    "### How to continue calculation?"
   ]
  },
  {
   "cell_type": "code",
   "execution_count": null,
   "metadata": {},
   "outputs": [],
   "source": [
    "cl.run('1u', iopt = 'full') # full without chgcar\n",
    "cl.run('1u', iopt = 'full_nomag') # full without chgcar and without magmom\n",
    "cl.run('1u', iopt = 'full_chg') # start from previous chgcar"
   ]
  },
  {
   "cell_type": "markdown",
   "metadata": {},
   "source": [
    "## Create new set from INCAR and modify it "
   ]
  },
  {
   "cell_type": "code",
   "execution_count": null,
   "metadata": {},
   "outputs": [],
   "source": [
    "se.read_incar('/ssd2/ydisk/Titarenko_electrolytes/MD/pc_10/INCAR')\n",
    "header.varset['1md_test10'] = se\n",
    "pot_pack = {'set_potential':{1:'H', 3:\"Li\",  5:'B', 6:'C',  8:\"O\", 9:\"F\", 11:'Na', 12:'Mg', 15:\"P\", 16:'S', 19:'K_pv',     20:'Ca',         22:\"Ti\",        23:\"V\", 24:'Cr',   25:\"Mn\",       26:\"Fe\",        27:\"Co_new\", 28:\"Ni_new\", 33:'As', 37:'Rb_pv', 38:'Sr_sv', 39:'Y_sv', 41:'Nb_pv', 45:'Rh', 56:'Ba_sv', 57:'La',  83:'Bi_pv', 34:'Se',    }  }\n",
    "\n",
    "header.varset = read_vasp_sets([('1md_test10', '1md_test10', pot_pack, 'over')])\n",
    "header.varset = read_vasp_sets([('1md_test10', '1md_test10', {'KSPACING':0.6}, 'over')])\n",
    "header.varset['1md_test10'].printme()\n"
   ]
  },
  {
   "cell_type": "markdown",
   "metadata": {},
   "source": [
    "## How to save results into database?"
   ]
  },
  {
   "cell_type": "code",
   "execution_count": null,
   "metadata": {},
   "outputs": [],
   "source": [
    "header.AUTO_UPDATE_DB = True # or add it to project_conf.py or simanrc.py"
   ]
  }
 ],
 "metadata": {
  "kernelspec": {
   "display_name": "Python 3 (ipykernel)",
   "language": "python",
   "name": "python3"
  },
  "language_info": {
   "codemirror_mode": {
    "name": "ipython",
    "version": 3
   },
   "file_extension": ".py",
   "mimetype": "text/x-python",
   "name": "python",
   "nbconvert_exporter": "python",
   "pygments_lexer": "ipython3",
   "version": "3.8.6"
  }
 },
 "nbformat": 4,
 "nbformat_minor": 1
}
